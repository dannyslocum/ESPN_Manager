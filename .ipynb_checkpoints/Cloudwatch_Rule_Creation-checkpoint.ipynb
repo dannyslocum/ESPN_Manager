{
 "cells": [
  {
   "cell_type": "code",
   "execution_count": 108,
   "metadata": {},
   "outputs": [],
   "source": [
    "import json\n",
    "import boto3\n",
    "import requests\n",
    "import datetime\n",
    "from pytz import timezone\n",
    "import numpy as np\n",
    "\n",
    "def get_schedule(adjusted_time):\n",
    "    def get_date(game, adjusted_time):\n",
    "        AT = adjusted_time\n",
    "        start_time = convert_my_iso_8601(game['date'],timezone('EST'))\n",
    "        return start_time - datetime.timedelta(hours=AT)\n",
    "\n",
    "    def convert_my_iso_8601(iso_8601, tz_info):\n",
    "        assert iso_8601[-1] == 'Z'\n",
    "        iso_8601 = iso_8601[:-1] + '000'\n",
    "        iso_8601_dt = datetime.datetime.strptime(iso_8601, '%Y-%m-%dT%H:%M:%S%f')\n",
    "        return iso_8601_dt.replace(tzinfo=timezone('UTC')).astimezone(tz_info)\n",
    "    \n",
    "    def set_cron(date):\n",
    "        minute = str(date.minute)\n",
    "        hour = str(date.hour)\n",
    "        dayofmonth = str(date.day)\n",
    "        month = str(date.month)\n",
    "        dayofweek = '?'\n",
    "        year = str(date.year)\n",
    "        return {\"cron\": 'cron({} {} {} {} {} {})'.format(minute, hour, dayofmonth, month, dayofweek, year),\n",
    "                \"name\": '{}_{}_{}_{}{}'.format(month, dayofmonth, year, hour, minute).replace(',','.')}\n",
    "        \n",
    "    start = datetime.date.today()\n",
    "    end = start + datetime.timedelta(days=7)\n",
    "    start = start.strftime(\"%Y%m%d\")\n",
    "    end = end.strftime(\"%Y%m%d\")\n",
    "\n",
    "    url = \"https://site.api.espn.com/apis/fantasy/v2/games/ffl/games?useMap=true&dates={}-{}&pbpOnly=true\".format(start, end)\n",
    "    r = requests.get(url)\n",
    "    data = r.json()\n",
    "    dates = list(np.unique([get_date(game, adjusted_time) for game in data['events']]))\n",
    "    \n",
    "    return [set_cron(date) for date in dates]\n",
    "\n",
    "dates = get_schedule(0.5)"
   ]
  },
  {
   "cell_type": "code",
   "execution_count": 110,
   "metadata": {},
   "outputs": [
    {
     "data": {
      "text/plain": [
       "{'cron': 'cron(0 12 28 11 ? 2019)', 'name': '11_28_2019_120'}"
      ]
     },
     "execution_count": 110,
     "metadata": {},
     "output_type": "execute_result"
    }
   ],
   "source": [
    "d = dates[0]"
   ]
  },
  {
   "cell_type": "code",
   "execution_count": 16,
   "metadata": {},
   "outputs": [
    {
     "name": "stdout",
     "output_type": "stream",
     "text": [
      "SUN_1245_2019\n",
      "{'ResponseMetadata': {'HTTPHeaders': {'x-amzn-requestid': '9b1ec4b8-3049-4289-a754-afa53fe1ecba', 'content-type': 'application/x-amz-json-1.1', 'date': 'Sun, 24 Nov 2019 01:17:47 GMT', 'content-length': '70'}, 'RequestId': '9b1ec4b8-3049-4289-a754-afa53fe1ecba', 'RetryAttempts': 0, 'HTTPStatusCode': 200}, 'RuleArn': 'arn:aws:events:us-east-1:534552671502:rule/SUN_1245_2019'}\n"
     ]
    }
   ],
   "source": [
    "cloudwatch_events = boto3.client('events')\n",
    "print(d['name'])\n",
    "roleArn = 'arn:aws:iam::534552671502:role/service-role/db_test-role-l88wdlrt'\n",
    "response = cloudwatch_events.put_rule(\n",
    "    Name=d['name'],\n",
    "    ScheduleExpression=d['cron'],\n",
    "    State='ENABLED',\n",
    "    Description='test description',\n",
    "    RoleArn=roleArn\n",
    ")\n",
    "\n",
    "print(response)"
   ]
  },
  {
   "cell_type": "code",
   "execution_count": 19,
   "metadata": {},
   "outputs": [
    {
     "name": "stdout",
     "output_type": "stream",
     "text": [
      "{'FailedEntryCount': 0, 'FailedEntries': [], 'ResponseMetadata': {'HTTPHeaders': {'x-amzn-requestid': 'f4ba2569-fbeb-494e-aabc-6912f2ab8a51', 'content-type': 'application/x-amz-json-1.1', 'date': 'Sun, 24 Nov 2019 01:18:13 GMT', 'content-length': '41'}, 'RequestId': 'f4ba2569-fbeb-494e-aabc-6912f2ab8a51', 'RetryAttempts': 0, 'HTTPStatusCode': 200}}\n"
     ]
    }
   ],
   "source": [
    "arn = 'arn:aws:lambda:us-east-1:534552671502:function:update_espn_roster'\n",
    "response = cloudwatch_events.put_targets(\n",
    "    Rule=d['name'],\n",
    "    Targets=[\n",
    "        {\n",
    "            'Arn': arn,\n",
    "            'Id': 'default'\n",
    "        }\n",
    "    ]\n",
    ")\n",
    "print(response)"
   ]
  },
  {
   "cell_type": "code",
   "execution_count": 21,
   "metadata": {},
   "outputs": [
    {
     "name": "stdout",
     "output_type": "stream",
     "text": [
      "{'ResponseMetadata': {'HTTPHeaders': {'x-amzn-requestid': '435ec77f-5903-4225-8473-9a24a223685d', 'content-type': 'application/x-amz-json-1.1', 'date': 'Sun, 24 Nov 2019 01:19:03 GMT', 'content-length': '66'}, 'RequestId': '435ec77f-5903-4225-8473-9a24a223685d', 'RetryAttempts': 0, 'HTTPStatusCode': 200}, 'RuleArn': 'arn:aws:events:us-east-1:534552671502:rule/test_demo'}\n"
     ]
    }
   ],
   "source": [
    "response = cloudwatch_events.put_rule(\n",
    "    Name='test_demo',\n",
    "    ScheduleExpression=schedule,\n",
    "    State='DISABLED'\n",
    ")\n",
    "print(response)"
   ]
  },
  {
   "cell_type": "code",
   "execution_count": 104,
   "metadata": {},
   "outputs": [
    {
     "data": {
      "text/plain": [
       "['cron(0 12 28 11 ? 2019)',\n",
       " 'cron(0 16 28 11 ? 2019)',\n",
       " 'cron(50 19 28 11 ? 2019)',\n",
       " 'cron(30 12 1 12 ? 2019)',\n",
       " 'cron(35 15 1 12 ? 2019)',\n",
       " 'cron(55 15 1 12 ? 2019)',\n",
       " 'cron(50 19 1 12 ? 2019)',\n",
       " 'cron(45 19 2 12 ? 2019)']"
      ]
     },
     "execution_count": 104,
     "metadata": {},
     "output_type": "execute_result"
    }
   ],
   "source": []
  },
  {
   "cell_type": "code",
   "execution_count": 71,
   "metadata": {},
   "outputs": [
    {
     "data": {
      "text/plain": [
       "[datetime.datetime(2019, 11, 28, 12, 30, tzinfo=<StaticTzInfo 'EST'>),\n",
       " datetime.datetime(2019, 11, 28, 16, 30, tzinfo=<StaticTzInfo 'EST'>),\n",
       " datetime.datetime(2019, 11, 28, 20, 20, tzinfo=<StaticTzInfo 'EST'>),\n",
       " datetime.datetime(2019, 12, 1, 13, 0, tzinfo=<StaticTzInfo 'EST'>),\n",
       " datetime.datetime(2019, 12, 1, 16, 5, tzinfo=<StaticTzInfo 'EST'>),\n",
       " datetime.datetime(2019, 12, 1, 16, 25, tzinfo=<StaticTzInfo 'EST'>),\n",
       " datetime.datetime(2019, 12, 1, 20, 20, tzinfo=<StaticTzInfo 'EST'>),\n",
       " datetime.datetime(2019, 12, 2, 20, 15, tzinfo=<StaticTzInfo 'EST'>)]"
      ]
     },
     "execution_count": 71,
     "metadata": {},
     "output_type": "execute_result"
    }
   ],
   "source": [
    "dates = [{\n",
    "    \"competitors\": game['competitors'],\n",
    "    \"date\": game['date'],\n",
    "    \"odds\": game['odds'],\n",
    "    \"scoringPlays\": game['scoringPlays'],\n",
    "    \"isNational\": game['broadcasts'][0]['isNational'],\n",
    "} for game in data['events']]"
   ]
  }
 ],
 "metadata": {
  "kernelspec": {
   "display_name": "Python 3",
   "language": "python",
   "name": "python3"
  },
  "language_info": {
   "codemirror_mode": {
    "name": "ipython",
    "version": 3
   },
   "file_extension": ".py",
   "mimetype": "text/x-python",
   "name": "python",
   "nbconvert_exporter": "python",
   "pygments_lexer": "ipython3",
   "version": "3.5.6"
  }
 },
 "nbformat": 4,
 "nbformat_minor": 2
}
