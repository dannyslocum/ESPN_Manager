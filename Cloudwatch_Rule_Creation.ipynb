{
 "cells": [
  {
   "cell_type": "code",
   "execution_count": 131,
   "metadata": {},
   "outputs": [
    {
     "name": "stdout",
     "output_type": "stream",
     "text": [
      "2019-12-01T18:00:00Z\n",
      "2019-12-01T18:00:00Z\n",
      "2019-12-01T18:00:00Z\n",
      "2019-12-01T18:00:00Z\n",
      "2019-12-01T18:00:00Z\n",
      "2019-12-01T18:00:00Z\n",
      "2019-12-01T18:00:00Z\n",
      "2019-12-01T18:00:00Z\n",
      "2019-12-01T21:05:00Z\n",
      "2019-12-01T21:25:00Z\n",
      "2019-12-01T21:25:00Z\n",
      "2019-12-02T01:20:00Z\n",
      "2019-12-03T01:15:00Z\n",
      "2019-12-06T01:20:00Z\n"
     ]
    }
   ],
   "source": [
    "import json\n",
    "import boto3\n",
    "import requests\n",
    "import datetime\n",
    "from pytz import timezone\n",
    "import numpy as np\n",
    "\n",
    "def get_schedule(adjusted_time):\n",
    "    def get_date(game, adjusted_time):\n",
    "        AT = adjusted_time\n",
    "        print(game['date'])\n",
    "        start_time = convert_my_iso_8601(game['date'],timezone('EST'))\n",
    "        return start_time - datetime.timedelta(hours=AT)\n",
    "\n",
    "    def convert_my_iso_8601(iso_8601, tz_info):\n",
    "        assert iso_8601[-1] == 'Z'\n",
    "        iso_8601 = iso_8601[:-1] + '000'\n",
    "        iso_8601_dt = datetime.datetime.strptime(iso_8601, '%Y-%m-%dT%H:%M:%S%f')\n",
    "        return iso_8601_dt.replace(tzinfo=timezone('UTC'))#.astimezone(tz_info)\n",
    "    \n",
    "    def set_cron(date):\n",
    "        minute = str(date.minute)\n",
    "        hour = str(date.hour)\n",
    "        dayofmonth = str(date.day)\n",
    "        month = str(date.month)\n",
    "        dayofweek = '?'\n",
    "        year = str(date.year)\n",
    "        return {\"cron\": 'cron({} {} {} {} {} {})'.format(minute, hour, dayofmonth, month, dayofweek, year),\n",
    "                \"name\": '{}_{}_{}_{}{}'.format(month, dayofmonth, year, hour, minute).replace(',','.')}\n",
    "        \n",
    "    start = datetime.date.today()\n",
    "    end = start + datetime.timedelta(days=7)\n",
    "    start = start.strftime(\"%Y%m%d\")\n",
    "    end = end.strftime(\"%Y%m%d\")\n",
    "\n",
    "    url = \"https://site.api.espn.com/apis/fantasy/v2/games/ffl/games?useMap=true&dates={}-{}&pbpOnly=true\".format(start, end)\n",
    "    r = requests.get(url)\n",
    "    data = r.json()\n",
    "    dates = list(np.unique([get_date(game, adjusted_time) for game in data['events']]))\n",
    "    \n",
    "    return [set_cron(date) for date in dates]\n",
    "\n",
    "dates = get_schedule(0.5)"
   ]
  },
  {
   "cell_type": "code",
   "execution_count": 135,
   "metadata": {},
   "outputs": [
    {
     "data": {
      "text/plain": [
       "[{'cron': 'cron(30 17 1 12 ? 2019)', 'name': '12_1_2019_1730'},\n",
       " {'cron': 'cron(35 20 1 12 ? 2019)', 'name': '12_1_2019_2035'},\n",
       " {'cron': 'cron(55 20 1 12 ? 2019)', 'name': '12_1_2019_2055'},\n",
       " {'cron': 'cron(50 0 2 12 ? 2019)', 'name': '12_2_2019_050'},\n",
       " {'cron': 'cron(45 0 3 12 ? 2019)', 'name': '12_3_2019_045'},\n",
       " {'cron': 'cron(50 0 6 12 ? 2019)', 'name': '12_6_2019_050'}]"
      ]
     },
     "execution_count": 135,
     "metadata": {},
     "output_type": "execute_result"
    }
   ],
   "source": [
    "dates"
   ]
  },
  {
   "cell_type": "code",
   "execution_count": null,
   "metadata": {},
   "outputs": [],
   "source": []
  },
  {
   "cell_type": "code",
   "execution_count": 133,
   "metadata": {},
   "outputs": [
    {
     "name": "stdout",
     "output_type": "stream",
     "text": [
      "12_1_2019_1730\n",
      "{'ResponseMetadata': {'HTTPHeaders': {'x-amzn-requestid': '3a7f02c2-c35b-40bf-8f97-739fa3a9662a', 'content-type': 'application/x-amz-json-1.1', 'date': 'Fri, 29 Nov 2019 05:37:32 GMT', 'content-length': '71'}, 'RequestId': '3a7f02c2-c35b-40bf-8f97-739fa3a9662a', 'RetryAttempts': 0, 'HTTPStatusCode': 200}, 'RuleArn': 'arn:aws:events:us-east-1:534552671502:rule/12_1_2019_1730'}\n"
     ]
    }
   ],
   "source": [
    "cloudwatch_events = boto3.client('events')\n",
    "print(d['name'])\n",
    "roleArn = 'arn:aws:iam::534552671502:role/service-role/db_test-role-l88wdlrt'\n",
    "arn = 'arn:aws:lambda:us-east-1:534552671502:function:update_espn_roster'\n",
    "response = cloudwatch_events.put_rule(\n",
    "    Name=d['name'],\n",
    "    ScheduleExpression=d['cron'],\n",
    "    State='ENABLED',\n",
    "    Description='test description',\n",
    "    RoleArn=roleArn\n",
    ")\n",
    "\n",
    "print(response)"
   ]
  },
  {
   "cell_type": "code",
   "execution_count": 134,
   "metadata": {},
   "outputs": [
    {
     "name": "stdout",
     "output_type": "stream",
     "text": [
      "{'FailedEntryCount': 0, 'FailedEntries': [], 'ResponseMetadata': {'HTTPHeaders': {'x-amzn-requestid': 'f682148a-dac1-42b6-abda-bed10433c83d', 'content-type': 'application/x-amz-json-1.1', 'date': 'Fri, 29 Nov 2019 05:37:33 GMT', 'content-length': '41'}, 'RequestId': 'f682148a-dac1-42b6-abda-bed10433c83d', 'RetryAttempts': 0, 'HTTPStatusCode': 200}}\n"
     ]
    }
   ],
   "source": [
    "arn = 'arn:aws:lambda:us-east-1:534552671502:function:update_espn_roster'\n",
    "response = cloudwatch_events.put_targets(\n",
    "    Rule=d['name'],\n",
    "    Targets=[\n",
    "        {\n",
    "            'Arn': arn,\n",
    "            'Id': 'default'\n",
    "        }\n",
    "    ]\n",
    ")\n",
    "print(response)"
   ]
  },
  {
   "cell_type": "code",
   "execution_count": 124,
   "metadata": {},
   "outputs": [
    {
     "data": {
      "text/plain": [
       "'11_28_2019_170'"
      ]
     },
     "execution_count": 124,
     "metadata": {},
     "output_type": "execute_result"
    }
   ],
   "source": [
    "d['name']"
   ]
  },
  {
   "cell_type": "code",
   "execution_count": 127,
   "metadata": {},
   "outputs": [],
   "source": [
    "response = cloudwatch_events.remove_targets(\n",
    "    Rule='11_28_2019_120',\n",
    "    Ids=[\n",
    "        'default',\n",
    "    ]\n",
    ")\n",
    "print(response)"
   ]
  },
  {
   "cell_type": "code",
   "execution_count": 130,
   "metadata": {},
   "outputs": [
    {
     "name": "stdout",
     "output_type": "stream",
     "text": [
      "{'ResponseMetadata': {'HTTPHeaders': {'x-amzn-requestid': 'dd082bd3-8c02-47a1-81d9-58e6d3d0ffc1', 'content-type': 'application/x-amz-json-1.1', 'date': 'Fri, 29 Nov 2019 05:12:17 GMT', 'content-length': '0'}, 'RequestId': 'dd082bd3-8c02-47a1-81d9-58e6d3d0ffc1', 'RetryAttempts': 0, 'HTTPStatusCode': 200}}\n"
     ]
    }
   ],
   "source": [
    "response = cloudwatch_events.delete_rule(\n",
    "    Name='11_28_2019_120'\n",
    ")\n",
    "print(response)"
   ]
  },
  {
   "cell_type": "code",
   "execution_count": 104,
   "metadata": {},
   "outputs": [
    {
     "data": {
      "text/plain": [
       "['cron(0 12 28 11 ? 2019)',\n",
       " 'cron(0 16 28 11 ? 2019)',\n",
       " 'cron(50 19 28 11 ? 2019)',\n",
       " 'cron(30 12 1 12 ? 2019)',\n",
       " 'cron(35 15 1 12 ? 2019)',\n",
       " 'cron(55 15 1 12 ? 2019)',\n",
       " 'cron(50 19 1 12 ? 2019)',\n",
       " 'cron(45 19 2 12 ? 2019)']"
      ]
     },
     "execution_count": 104,
     "metadata": {},
     "output_type": "execute_result"
    }
   ],
   "source": []
  },
  {
   "cell_type": "code",
   "execution_count": 71,
   "metadata": {},
   "outputs": [
    {
     "data": {
      "text/plain": [
       "[datetime.datetime(2019, 11, 28, 12, 30, tzinfo=<StaticTzInfo 'EST'>),\n",
       " datetime.datetime(2019, 11, 28, 16, 30, tzinfo=<StaticTzInfo 'EST'>),\n",
       " datetime.datetime(2019, 11, 28, 20, 20, tzinfo=<StaticTzInfo 'EST'>),\n",
       " datetime.datetime(2019, 12, 1, 13, 0, tzinfo=<StaticTzInfo 'EST'>),\n",
       " datetime.datetime(2019, 12, 1, 16, 5, tzinfo=<StaticTzInfo 'EST'>),\n",
       " datetime.datetime(2019, 12, 1, 16, 25, tzinfo=<StaticTzInfo 'EST'>),\n",
       " datetime.datetime(2019, 12, 1, 20, 20, tzinfo=<StaticTzInfo 'EST'>),\n",
       " datetime.datetime(2019, 12, 2, 20, 15, tzinfo=<StaticTzInfo 'EST'>)]"
      ]
     },
     "execution_count": 71,
     "metadata": {},
     "output_type": "execute_result"
    }
   ],
   "source": [
    "dates = [{\n",
    "    \"competitors\": game['competitors'],\n",
    "    \"date\": game['date'],\n",
    "    \"odds\": game['odds'],\n",
    "    \"scoringPlays\": game['scoringPlays'],\n",
    "    \"isNational\": game['broadcasts'][0]['isNational'],\n",
    "} for game in data['events']]"
   ]
  },
  {
   "cell_type": "code",
   "execution_count": null,
   "metadata": {
    "collapsed": true
   },
   "outputs": [],
   "source": []
  },
  {
   "cell_type": "code",
   "execution_count": null,
   "metadata": {
    "collapsed": true
   },
   "outputs": [],
   "source": []
  },
  {
   "cell_type": "code",
   "execution_count": null,
   "metadata": {
    "collapsed": true
   },
   "outputs": [],
   "source": []
  },
  {
   "cell_type": "code",
   "execution_count": 119,
   "metadata": {},
   "outputs": [
    {
     "ename": "ImportError",
     "evalue": "No module named 'ff_espn_api'",
     "output_type": "error",
     "traceback": [
      "\u001b[1;31m---------------------------------------------------------------------------\u001b[0m",
      "\u001b[1;31mImportError\u001b[0m                               Traceback (most recent call last)",
      "\u001b[1;32m<ipython-input-119-e272b1e9eb83>\u001b[0m in \u001b[0;36m<module>\u001b[1;34m()\u001b[0m\n\u001b[1;32m----> 1\u001b[1;33m \u001b[1;32mfrom\u001b[0m \u001b[0mff_espn_api\u001b[0m \u001b[1;32mimport\u001b[0m \u001b[0mLeague\u001b[0m\u001b[1;33m\u001b[0m\u001b[0m\n\u001b[0m\u001b[0;32m      2\u001b[0m \u001b[1;32mimport\u001b[0m \u001b[0mrequests\u001b[0m\u001b[1;33m\u001b[0m\u001b[0m\n\u001b[0;32m      3\u001b[0m \u001b[1;32mimport\u001b[0m \u001b[0mpandas\u001b[0m \u001b[1;32mas\u001b[0m \u001b[0mpd\u001b[0m\u001b[1;33m\u001b[0m\u001b[0m\n\u001b[0;32m      4\u001b[0m \u001b[1;32mfrom\u001b[0m \u001b[0mff_espn_api\u001b[0m\u001b[1;33m.\u001b[0m\u001b[0mconstant\u001b[0m \u001b[1;32mimport\u001b[0m \u001b[1;33m*\u001b[0m\u001b[1;33m\u001b[0m\u001b[0m\n\u001b[0;32m      5\u001b[0m \u001b[1;32mimport\u001b[0m \u001b[0mjson\u001b[0m\u001b[1;33m\u001b[0m\u001b[0m\n",
      "\u001b[1;31mImportError\u001b[0m: No module named 'ff_espn_api'"
     ]
    }
   ],
   "source": [
    "from ff_espn_api import League\n",
    "import requests\n",
    "import pandas as pd\n",
    "from ff_espn_api.constant import *\n",
    "import json\n",
    "\n",
    "\n",
    "class Manager(League):\n",
    "    def __init__(self, league_id, year, username, password):\n",
    "        super().__init__(league_id, year, username=username, password=password)\n",
    "        self.team = self.get_user_team()\n",
    "\n",
    "    def get_lineup_slot_counts(self):\n",
    "        url = self.ENDPOINT\n",
    "        payload = {\"view\": \"mSettings\"}\n",
    "        response = requests.get(url, params=payload, cookies=self.cookies)\n",
    "        if response.ok is False:\n",
    "            print(\"### ERROR: response error with get_roster function ###\")\n",
    "            print(json.dumps(response.json, indent=6))\n",
    "        data = response.json() if self.year > 2018 else response.json()[0]\n",
    "        lineup_slot_counts = data['settings']['rosterSettings']['lineupSlotCounts']\n",
    "        return lineup_slot_counts\n",
    "\n",
    "    def get_roster_data(self):\n",
    "        roster_data = [{\n",
    "            \"id\": player.playerId,\n",
    "            \"name\": player.name,\n",
    "            \"projection\": player.projected_points,\n",
    "            \"position\": player.position,\n",
    "            \"eligible_slots\": player.eligibleSlots,\n",
    "            \"current_slot\": player.currentSlot,\n",
    "            \"lineup_locked\": player.lineup_locked\n",
    "        } for player in self.team.roster]\n",
    "        return pd.DataFrame(roster_data)\n",
    "\n",
    "    def get_adjusted_roster(self):\n",
    "        roster = self.get_roster_data()\n",
    "        roster['current_slot_id'] = [pos for r in roster.current_slot for pos in POSITION_MAP if POSITION_MAP[pos] == r]\n",
    "        roster = roster.sort_values(['projection'], ascending=False).reset_index()\n",
    "        lineup_slot_counts = self.get_lineup_slot_counts()\n",
    "        for index in range(len(roster)):\n",
    "            if roster.lineup_locked[index]:\n",
    "                lineup_slot_counts[ str(roster.current_slot_id[index]) ] += -1\n",
    "\n",
    "        adjusted_slot = []\n",
    "        for index in range(len(roster)):\n",
    "            position = roster.position[index]\n",
    "            eligible_slots = roster.eligible_slots[index]\n",
    "            current_slot_id = roster.current_slot_id[index]\n",
    "            locked = roster.lineup_locked[index]\n",
    "            print(roster.name[index])\n",
    "            if (current_slot_id == 21) or locked:\n",
    "                print(1)\n",
    "                adjusted_slot_value = int(current_slot_id)\n",
    "            elif lineup_slot_counts[ str(POSITION_MAP[position]) ] > 0:\n",
    "                print(2)\n",
    "                adjusted_slot_value = int(POSITION_MAP[position])\n",
    "            else:\n",
    "                slot_found = None\n",
    "                for slot in lineup_slot_counts:\n",
    "                    slot_num = int(slot)\n",
    "                    if slot_num == 4:\n",
    "                        print(lineup_slot_counts[slot])\n",
    "                        print(POSITION_MAP[slot_num] in eligible_slots)\n",
    "                    if (slot_num < 20) and (lineup_slot_counts[slot] > 0) and (POSITION_MAP[slot_num] in eligible_slots):\n",
    "                        print(3)\n",
    "                        slot_found = slot_num\n",
    "                        break\n",
    "                if slot_found is None:\n",
    "                    print(4)\n",
    "                    adjusted_slot_value = int(20)\n",
    "                else:\n",
    "                    print(5)\n",
    "                    adjusted_slot_value = int(slot_found)\n",
    "            lineup_slot_counts[str(adjusted_slot_value)] += -1\n",
    "            adjusted_slot.append(adjusted_slot_value)\n",
    "\n",
    "        roster['adjusted_slot'] = adjusted_slot\n",
    "        return roster\n",
    "\n",
    "    def make_lineup_adjustment(self):\n",
    "        roster = self.get_adjusted_roster()\n",
    "        team_adjustments = roster[roster.current_slot_id != roster.adjusted_slot]\n",
    "        adjustments_needed = len(team_adjustments)\n",
    "        if adjustments_needed > 0:\n",
    "            adjustment = {\n",
    "                \"isLeagueManager\": False,\n",
    "                \"teamId\": \"{}\".format(self.team.team_id),\n",
    "                \"type\": \"ROSTER\",\n",
    "                \"memberId\": \"{}\".format(self.cookies['swid']),\n",
    "                \"scoringPeriodId\": \"{}\".format(self.current_week),\n",
    "                \"executionType\": \"EXECUTE\",\n",
    "                \"items\": []\n",
    "            }\n",
    "\n",
    "            current_starters = team_adjustments[team_adjustments.current_slot_id < 20]\n",
    "            if len(current_starters) > 0:\n",
    "                move_starter_players = [{\n",
    "                        \"playerId\": \"{}\".format(player[0]),\n",
    "                        \"type\": \"LINEUP\",\n",
    "                        \"fromLineupSlotId\": \"{}\".format(player[1]),\n",
    "                        \"toLineupSlotId\": \"{}\".format(20)\n",
    "                    } for player in current_starters[['id', 'current_slot_id']].values]\n",
    "                adjustment[\"items\"] = move_starter_players\n",
    "                response = requests.post(self.ENDPOINT + \"/transactions/\", json=adjustment, cookies=self.cookies)\n",
    "                if response.ok is False:\n",
    "                    print(\"### Error adjusting lineup ###\")\n",
    "                    return response\n",
    "\n",
    "            move_bench_players = [{\n",
    "                    \"playerId\": \"{}\".format(player[0]),\n",
    "                    \"type\": \"LINEUP\",\n",
    "                    \"fromLineupSlotId\": \"{}\".format(20),\n",
    "                    \"toLineupSlotId\": \"{}\".format(player[1])\n",
    "                } for player in team_adjustments[['id', 'adjusted_slot']].values]\n",
    "            adjustment[\"items\"] = move_bench_players\n",
    "            response = requests.post(self.ENDPOINT + \"/transactions/\", json=adjustment, cookies=self.cookies)\n",
    "            if response.ok is False:\n",
    "                print(\"### Error adjusting lineup and moving players to starters ###\")\n",
    "                return response\n",
    "\n",
    "            print(\"<--> {} lineup adjustments made\".format(adjustments_needed))\n",
    "            print(\"-\" * 100)\n",
    "            if len(current_starters) > 0:\n",
    "                benched_points = sum(current_starters.projection)\n",
    "                for player in current_starters[['name', 'current_slot', 'projection']].values:\n",
    "                    print(\"--> Benched {} from the {} position (projected: {})\".format(player[0], player[1], player[2]))\n",
    "            else:\n",
    "                benched_points = 0\n",
    "            current_bench = team_adjustments[team_adjustments.current_slot_id >= 20]\n",
    "            for player in current_bench[['name', 'adjusted_slot', 'projection']].values:\n",
    "                print(\"<-- Starting {} in the {} position (projected: {})\".format(player[0], POSITION_MAP[player[1]], player[2]))\n",
    "            starting_points = sum(current_bench.projection)\n",
    "            print(\"-\" * 50)\n",
    "            print(\"-\" * 50)\n",
    "            print(\"Projected for {} more points\".format(float(starting_points - benched_points)))\n",
    "            return {\"benched\": list(current_starters.name), \"starting\": list(current_bench.name)}\n",
    "        else:\n",
    "            print(\"<--> No adjustments needed\")\n",
    "            return {\"benched\": [], \"starting\": []}"
   ]
  },
  {
   "cell_type": "code",
   "execution_count": null,
   "metadata": {
    "collapsed": true
   },
   "outputs": [],
   "source": []
  }
 ],
 "metadata": {
  "kernelspec": {
   "display_name": "Python 3",
   "language": "python",
   "name": "python3"
  },
  "language_info": {
   "codemirror_mode": {
    "name": "ipython",
    "version": 3
   },
   "file_extension": ".py",
   "mimetype": "text/x-python",
   "name": "python",
   "nbconvert_exporter": "python",
   "pygments_lexer": "ipython3",
   "version": "3.5.6"
  }
 },
 "nbformat": 4,
 "nbformat_minor": 2
}
